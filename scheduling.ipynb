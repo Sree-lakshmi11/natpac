{
 "cells": [
  {
   "cell_type": "code",
   "execution_count": 26,
   "metadata": {},
   "outputs": [],
   "source": [
    "# SET UP AND IMPORTS \n",
    "import pandas as pd \n",
    "\n",
    "df = pd.read_excel('dataset/processed/psl.xlsx')\n",
    "start_place = 'PSL'\n",
    "#start_legs contain the legs with departure place as start_place\n",
    "start_legs = df[df['Departure Place'] == start_place].sort_values('Departure Time', ascending=True)\n",
    "#main_legs contains all other legs \n",
    "main_legs = df[df['Departure Place'] != start_place]\n",
    "MIN_DUTY = 25200 #setting the minimum duty as 7:00 hrs \n",
    "# The ideal duty is 7:30 hrs with a 15 min break at the start and end . Then total 8:00 \n",
    "MAX_DUTY = 30600 # setting the maximum duty as 8:30 hrs"
   ]
  },
  {
   "cell_type": "code",
   "execution_count": null,
   "metadata": {},
   "outputs": [],
   "source": [
    "#SUPPORTING FUNCTIONS "
   ]
  },
  {
   "cell_type": "code",
   "execution_count": null,
   "metadata": {},
   "outputs": [],
   "source": [
    "# ALGORITHM\n",
    "def generateTrip(start_leg):\n",
    "    stack = [] # contain the legs in the trip "
   ]
  },
  {
   "cell_type": "code",
   "execution_count": null,
   "metadata": {},
   "outputs": [],
   "source": [
    "# MAIN"
   ]
  }
 ],
 "metadata": {
  "kernelspec": {
   "display_name": "__virtualEnv",
   "language": "python",
   "name": "python3"
  },
  "language_info": {
   "name": "python",
   "version": "3.10.4"
  },
  "orig_nbformat": 4
 },
 "nbformat": 4,
 "nbformat_minor": 2
}
